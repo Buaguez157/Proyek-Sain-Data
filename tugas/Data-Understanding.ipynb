{
 "cells": [
  {
   "cell_type": "markdown",
   "metadata": {},
   "source": [
    "# Data Understanding\n",
    "Notebook ini berisi proses eksplorasi dataset pada mata kuliah **Proyek Sains Data**.\n"
   ]
  },
  {
   "cell_type": "code",
   "execution_count": null,
   "metadata": {
    "vscode": {
     "languageId": "plaintext"
    }
   },
   "outputs": [],
   "source": [
    "# Data Understanding Notebook\n",
    "# ===========================\n",
    "\n",
    "# 1. Import library\n",
    "import pandas as pd\n",
    "import numpy as np\n",
    "import matplotlib.pyplot as plt\n",
    "import seaborn as sns\n",
    "\n",
    "# 2. Load dataset\n",
    "# Ganti 'data.csv' dengan nama file datasetmu\n",
    "df = pd.read_csv(\"data.csv\")\n",
    "\n",
    "# 3. Info umum dataset\n",
    "print(\"Ukuran dataset:\", df.shape)\n",
    "print(\"\\nTipe data setiap kolom:\\n\", df.dtypes)\n",
    "\n",
    "# 4. Lihat beberapa baris awal\n",
    "df.head()\n"
   ]
  },
  {
   "cell_type": "code",
   "execution_count": null,
   "metadata": {
    "vscode": {
     "languageId": "plaintext"
    }
   },
   "outputs": [],
   "source": [
    "# 5. Statistik deskriptif\n",
    "df.describe(include=\"all\")\n"
   ]
  },
  {
   "cell_type": "code",
   "execution_count": null,
   "metadata": {
    "vscode": {
     "languageId": "plaintext"
    }
   },
   "outputs": [],
   "source": [
    "# 6. Cek missing value\n",
    "print(\"Jumlah missing value tiap kolom:\\n\", df.isnull().sum())\n"
   ]
  },
  {
   "cell_type": "code",
   "execution_count": null,
   "metadata": {
    "vscode": {
     "languageId": "plaintext"
    }
   },
   "outputs": [],
   "source": [
    "# 7. Distribusi tiap fitur numerik\n",
    "df.hist(figsize=(12, 8), bins=20, edgecolor='black')\n",
    "plt.suptitle(\"Distribusi Fitur Numerik\", fontsize=16)\n",
    "plt.show()\n"
   ]
  },
  {
   "cell_type": "code",
   "execution_count": null,
   "metadata": {
    "vscode": {
     "languageId": "plaintext"
    }
   },
   "outputs": [],
   "source": [
    "# 8. Boxplot untuk mendeteksi outlier\n",
    "plt.figure(figsize=(12, 6))\n",
    "sns.boxplot(data=df, orient=\"h\")\n",
    "plt.title(\"Boxplot Fitur Numerik\")\n",
    "plt.show()\n"
   ]
  },
  {
   "cell_type": "code",
   "execution_count": null,
   "metadata": {
    "vscode": {
     "languageId": "plaintext"
    }
   },
   "outputs": [],
   "source": [
    "# 9. Korelasi antar variabel numerik\n",
    "plt.figure(figsize=(10, 6))\n",
    "sns.heatmap(df.corr(), annot=True, cmap=\"coolwarm\", fmt=\".2f\")\n",
    "plt.title(\"Heatmap Korelasi\")\n",
    "plt.show()\n"
   ]
  },
  {
   "cell_type": "code",
   "execution_count": null,
   "metadata": {
    "vscode": {
     "languageId": "plaintext"
    }
   },
   "outputs": [],
   "source": [
    "# 10. Distribusi target (jika ada kolom target)\n",
    "# Ganti 'target' dengan nama kolom target di datasetmu\n",
    "if 'target' in df.columns:\n",
    "    plt.figure(figsize=(6,4))\n",
    "    sns.countplot(x=\"target\", data=df)\n",
    "    plt.title(\"Distribusi Kelas Target\")\n",
    "    plt.show()\n"
   ]
  }
 ],
 "metadata": {
  "kernelspec": {
   "display_name": "Python 3",
   "language": "python",
   "name": "python3"
  },
  "language_info": {
   "codemirror_mode": {
    "name": "ipython",
    "version": 3
   },
   "file_extension": ".py",
   "mimetype": "text/x-python",
   "name": "python",
   "nbconvert_exporter": "python",
   "pygments_lexer": "ipython3",
   "version": "3.8.0"
  },
  "widgets": {
   "application/vnd.jupyter.widget-state+json": {
    "state": {},
    "version_major": 2,
    "version_minor": 0
   }
  }
 },
 "nbformat": 4,
 "nbformat_minor": 4
}
