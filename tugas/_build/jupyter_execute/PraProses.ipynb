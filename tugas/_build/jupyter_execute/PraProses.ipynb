{
 "cells": [
  {
   "cell_type": "markdown",
   "id": "635e81fe",
   "metadata": {},
   "source": [
    "# **Pra Proses Data**\n",
    "\n",
    "**Deteksi Outlier dan Clustering**\n",
    "\n",
    "1. Dataset menggunakan iris-full.csv\n",
    "2. Install Library\n",
    "Buka Anaconda Prompt lalu mengetikkan:\n",
    "\n",
    "```\n",
    "pip install pycaret pandas\n",
    "\n",
    "```\n",
    "3. Proses dataset\n",
    "Temukan outlier data iris menggunakan K-NN dan lakukan clustering dengan K-mean.\n",
    "\n",
    "tapi sebelum itu pastikan path interpreter Python sama dengan Power BI"
   ]
  },
  {
   "cell_type": "code",
   "execution_count": 1,
   "id": "c53c2474",
   "metadata": {},
   "outputs": [
    {
     "name": "stdout",
     "output_type": "stream",
     "text": [
      "c:\\Users\\Asus\\anaconda3\\envs\\pycaret-env\\python.exe\n"
     ]
    }
   ],
   "source": [
    "import sys\n",
    "print(sys.executable)\n"
   ]
  },
  {
   "cell_type": "markdown",
   "id": "76c61076",
   "metadata": {},
   "source": [
    "Dikarenakan di versi PyCaret 3.x tidak ada function get_outliers() dan get_clusters() langsung di modul, maka menggunakan assign_model(model) untuk menghasilkan dataframe dengan kolom tambahan (Anomaly, Anomaly_Score, Cluster)."
   ]
  },
  {
   "cell_type": "code",
   "execution_count": 4,
   "id": "badb1dae",
   "metadata": {},
   "outputs": [
    {
     "data": {
      "text/html": [],
      "text/plain": [
       "<IPython.core.display.HTML object>"
      ]
     },
     "metadata": {},
     "output_type": "display_data"
    },
    {
     "data": {
      "text/html": [],
      "text/plain": [
       "<IPython.core.display.HTML object>"
      ]
     },
     "metadata": {},
     "output_type": "display_data"
    },
    {
     "data": {
      "text/html": [],
      "text/plain": [
       "<IPython.core.display.HTML object>"
      ]
     },
     "metadata": {},
     "output_type": "display_data"
    },
    {
     "name": "stdout",
     "output_type": "stream",
     "text": [
      "🔎 Outlier detection selesai\n",
      "   id  sepal length  sepal width  petal length  petal width  Anomaly  \\\n",
      "0   1           5.1          3.5           1.4          0.2        0   \n",
      "1   2           4.9          3.0           1.4          0.2        0   \n",
      "2   3           4.7          3.2           1.3          0.2        0   \n",
      "3   4           4.6          3.1           1.5          0.2        0   \n",
      "4   5           5.0          3.6           1.4          0.2        0   \n",
      "\n",
      "   Anomaly_Score  \n",
      "0       0.634739  \n",
      "1       0.578645  \n",
      "2       0.548796  \n",
      "3       0.538036  \n",
      "4       0.557574  \n"
     ]
    },
    {
     "data": {
      "text/html": [],
      "text/plain": [
       "<IPython.core.display.HTML object>"
      ]
     },
     "metadata": {},
     "output_type": "display_data"
    },
    {
     "data": {
      "text/html": [
       "<style type=\"text/css\">\n",
       "</style>\n",
       "<table id=\"T_dd3cf\">\n",
       "  <thead>\n",
       "    <tr>\n",
       "      <th class=\"blank level0\" >&nbsp;</th>\n",
       "      <th id=\"T_dd3cf_level0_col0\" class=\"col_heading level0 col0\" >Silhouette</th>\n",
       "      <th id=\"T_dd3cf_level0_col1\" class=\"col_heading level0 col1\" >Calinski-Harabasz</th>\n",
       "      <th id=\"T_dd3cf_level0_col2\" class=\"col_heading level0 col2\" >Davies-Bouldin</th>\n",
       "      <th id=\"T_dd3cf_level0_col3\" class=\"col_heading level0 col3\" >Homogeneity</th>\n",
       "      <th id=\"T_dd3cf_level0_col4\" class=\"col_heading level0 col4\" >Rand Index</th>\n",
       "      <th id=\"T_dd3cf_level0_col5\" class=\"col_heading level0 col5\" >Completeness</th>\n",
       "    </tr>\n",
       "  </thead>\n",
       "  <tbody>\n",
       "    <tr>\n",
       "      <th id=\"T_dd3cf_level0_row0\" class=\"row_heading level0 row0\" >0</th>\n",
       "      <td id=\"T_dd3cf_row0_col0\" class=\"data row0 col0\" >0.4094</td>\n",
       "      <td id=\"T_dd3cf_row0_col1\" class=\"data row0 col1\" >197.1841</td>\n",
       "      <td id=\"T_dd3cf_row0_col2\" class=\"data row0 col2\" >0.9425</td>\n",
       "      <td id=\"T_dd3cf_row0_col3\" class=\"data row0 col3\" >0</td>\n",
       "      <td id=\"T_dd3cf_row0_col4\" class=\"data row0 col4\" >0</td>\n",
       "      <td id=\"T_dd3cf_row0_col5\" class=\"data row0 col5\" >0</td>\n",
       "    </tr>\n",
       "  </tbody>\n",
       "</table>\n"
      ],
      "text/plain": [
       "<pandas.io.formats.style.Styler at 0x119155538e0>"
      ]
     },
     "metadata": {},
     "output_type": "display_data"
    },
    {
     "data": {
      "text/html": [],
      "text/plain": [
       "<IPython.core.display.HTML object>"
      ]
     },
     "metadata": {},
     "output_type": "display_data"
    },
    {
     "name": "stdout",
     "output_type": "stream",
     "text": [
      "\n",
      "📊 Clustering selesai\n",
      "   id  sepal length  sepal width  petal length  petal width    Cluster\n",
      "0   1           5.1          3.5           1.4          0.2  Cluster 1\n",
      "1   2           4.9          3.0           1.4          0.2  Cluster 1\n",
      "2   3           4.7          3.2           1.3          0.2  Cluster 1\n",
      "3   4           4.6          3.1           1.5          0.2  Cluster 1\n",
      "4   5           5.0          3.6           1.4          0.2  Cluster 1\n",
      "\n",
      "✅ Dataset final (dengan Outlier & Cluster):\n",
      "   id        Class  sepal length  sepal width  petal length  petal width  \\\n",
      "0   1  Iris-setosa           5.1          3.5           1.4          0.2   \n",
      "1   2  Iris-setosa           4.9          3.0           1.4          0.2   \n",
      "2   3  Iris-setosa           4.7          3.2           1.3          0.2   \n",
      "3   4  Iris-setosa           4.6          3.1           1.5          0.2   \n",
      "4   5  Iris-setosa           5.0          3.6           1.4          0.2   \n",
      "\n",
      "   Anomaly    Cluster  \n",
      "0        0  Cluster 1  \n",
      "1        0  Cluster 1  \n",
      "2        0  Cluster 1  \n",
      "3        0  Cluster 1  \n",
      "4        0  Cluster 1  \n"
     ]
    }
   ],
   "source": [
    "import pandas as pd\n",
    "from pycaret.anomaly import setup as ano_setup, create_model as ano_create, assign_model as ano_assign\n",
    "from pycaret.clustering import setup as clu_setup, create_model as clu_create, assign_model as clu_assign\n",
    "\n",
    "# 1. Load dataset\n",
    "dataset = pd.read_csv(\"iris-full.csv\")\n",
    "\n",
    "# Buang label dulu supaya unsupervised jalan (PyCaret ga butuh target di anomaly/cluster)\n",
    "if \"Class\" in dataset.columns:\n",
    "    dataset_nolabel = dataset.drop(columns=[\"Class\"])\n",
    "else:\n",
    "    dataset_nolabel = dataset.copy()\n",
    "\n",
    "# -------------------------------------------------------\n",
    "# 2. Outlier Detection (KNN)\n",
    "ano_setup(data=dataset_nolabel, session_id=123, normalize=True, verbose=False)\n",
    "knn = ano_create('knn')               # model KNN anomaly\n",
    "dataset_out = ano_assign(knn)         # tambahkan kolom 'Anomaly'\n",
    "\n",
    "print(\"🔎 Outlier detection selesai\")\n",
    "print(dataset_out.head())\n",
    "\n",
    "# -------------------------------------------------------\n",
    "# 3. Clustering (KMeans)\n",
    "clu_setup(data=dataset_nolabel, session_id=123, normalize=True, verbose=False)\n",
    "kmeans = clu_create('kmeans')         # model KMeans\n",
    "dataset_clu = clu_assign(kmeans)      # tambahkan kolom 'Cluster'\n",
    "\n",
    "print(\"\\n📊 Clustering selesai\")\n",
    "print(dataset_clu.head())\n",
    "\n",
    "# -------------------------------------------------------\n",
    "# 4. Gabungkan hasil outlier + cluster ke dataset asli\n",
    "dataset_final = dataset.copy()\n",
    "dataset_final[\"Anomaly\"] = dataset_out[\"Anomaly\"]\n",
    "dataset_final[\"Cluster\"] = dataset_clu[\"Cluster\"]\n",
    "\n",
    "print(\"\\n✅ Dataset final (dengan Outlier & Cluster):\")\n",
    "print(dataset_final.head())\n"
   ]
  },
  {
   "cell_type": "markdown",
   "id": "6ca07700",
   "metadata": {},
   "source": [
    "Ini hasil dari Anomaly dan Cluster."
   ]
  },
  {
   "cell_type": "code",
   "execution_count": 3,
   "id": "50d20d10",
   "metadata": {},
   "outputs": [
    {
     "data": {
      "text/html": [
       "<style type=\"text/css\">\n",
       "#T_0e94b_row4_col1, #T_0e94b_row8_col1 {\n",
       "  background-color: lightgreen;\n",
       "}\n",
       "</style>\n",
       "<table id=\"T_0e94b\">\n",
       "  <thead>\n",
       "    <tr>\n",
       "      <th class=\"blank level0\" >&nbsp;</th>\n",
       "      <th id=\"T_0e94b_level0_col0\" class=\"col_heading level0 col0\" >Description</th>\n",
       "      <th id=\"T_0e94b_level0_col1\" class=\"col_heading level0 col1\" >Value</th>\n",
       "    </tr>\n",
       "  </thead>\n",
       "  <tbody>\n",
       "    <tr>\n",
       "      <th id=\"T_0e94b_level0_row0\" class=\"row_heading level0 row0\" >0</th>\n",
       "      <td id=\"T_0e94b_row0_col0\" class=\"data row0 col0\" >Session id</td>\n",
       "      <td id=\"T_0e94b_row0_col1\" class=\"data row0 col1\" >123</td>\n",
       "    </tr>\n",
       "    <tr>\n",
       "      <th id=\"T_0e94b_level0_row1\" class=\"row_heading level0 row1\" >1</th>\n",
       "      <td id=\"T_0e94b_row1_col0\" class=\"data row1 col0\" >Original data shape</td>\n",
       "      <td id=\"T_0e94b_row1_col1\" class=\"data row1 col1\" >(150, 5)</td>\n",
       "    </tr>\n",
       "    <tr>\n",
       "      <th id=\"T_0e94b_level0_row2\" class=\"row_heading level0 row2\" >2</th>\n",
       "      <td id=\"T_0e94b_row2_col0\" class=\"data row2 col0\" >Transformed data shape</td>\n",
       "      <td id=\"T_0e94b_row2_col1\" class=\"data row2 col1\" >(150, 5)</td>\n",
       "    </tr>\n",
       "    <tr>\n",
       "      <th id=\"T_0e94b_level0_row3\" class=\"row_heading level0 row3\" >3</th>\n",
       "      <td id=\"T_0e94b_row3_col0\" class=\"data row3 col0\" >Numeric features</td>\n",
       "      <td id=\"T_0e94b_row3_col1\" class=\"data row3 col1\" >5</td>\n",
       "    </tr>\n",
       "    <tr>\n",
       "      <th id=\"T_0e94b_level0_row4\" class=\"row_heading level0 row4\" >4</th>\n",
       "      <td id=\"T_0e94b_row4_col0\" class=\"data row4 col0\" >Preprocess</td>\n",
       "      <td id=\"T_0e94b_row4_col1\" class=\"data row4 col1\" >True</td>\n",
       "    </tr>\n",
       "    <tr>\n",
       "      <th id=\"T_0e94b_level0_row5\" class=\"row_heading level0 row5\" >5</th>\n",
       "      <td id=\"T_0e94b_row5_col0\" class=\"data row5 col0\" >Imputation type</td>\n",
       "      <td id=\"T_0e94b_row5_col1\" class=\"data row5 col1\" >simple</td>\n",
       "    </tr>\n",
       "    <tr>\n",
       "      <th id=\"T_0e94b_level0_row6\" class=\"row_heading level0 row6\" >6</th>\n",
       "      <td id=\"T_0e94b_row6_col0\" class=\"data row6 col0\" >Numeric imputation</td>\n",
       "      <td id=\"T_0e94b_row6_col1\" class=\"data row6 col1\" >mean</td>\n",
       "    </tr>\n",
       "    <tr>\n",
       "      <th id=\"T_0e94b_level0_row7\" class=\"row_heading level0 row7\" >7</th>\n",
       "      <td id=\"T_0e94b_row7_col0\" class=\"data row7 col0\" >Categorical imputation</td>\n",
       "      <td id=\"T_0e94b_row7_col1\" class=\"data row7 col1\" >mode</td>\n",
       "    </tr>\n",
       "    <tr>\n",
       "      <th id=\"T_0e94b_level0_row8\" class=\"row_heading level0 row8\" >8</th>\n",
       "      <td id=\"T_0e94b_row8_col0\" class=\"data row8 col0\" >Normalize</td>\n",
       "      <td id=\"T_0e94b_row8_col1\" class=\"data row8 col1\" >True</td>\n",
       "    </tr>\n",
       "    <tr>\n",
       "      <th id=\"T_0e94b_level0_row9\" class=\"row_heading level0 row9\" >9</th>\n",
       "      <td id=\"T_0e94b_row9_col0\" class=\"data row9 col0\" >Normalize method</td>\n",
       "      <td id=\"T_0e94b_row9_col1\" class=\"data row9 col1\" >zscore</td>\n",
       "    </tr>\n",
       "    <tr>\n",
       "      <th id=\"T_0e94b_level0_row10\" class=\"row_heading level0 row10\" >10</th>\n",
       "      <td id=\"T_0e94b_row10_col0\" class=\"data row10 col0\" >CPU Jobs</td>\n",
       "      <td id=\"T_0e94b_row10_col1\" class=\"data row10 col1\" >-1</td>\n",
       "    </tr>\n",
       "    <tr>\n",
       "      <th id=\"T_0e94b_level0_row11\" class=\"row_heading level0 row11\" >11</th>\n",
       "      <td id=\"T_0e94b_row11_col0\" class=\"data row11 col0\" >Use GPU</td>\n",
       "      <td id=\"T_0e94b_row11_col1\" class=\"data row11 col1\" >False</td>\n",
       "    </tr>\n",
       "    <tr>\n",
       "      <th id=\"T_0e94b_level0_row12\" class=\"row_heading level0 row12\" >12</th>\n",
       "      <td id=\"T_0e94b_row12_col0\" class=\"data row12 col0\" >Log Experiment</td>\n",
       "      <td id=\"T_0e94b_row12_col1\" class=\"data row12 col1\" >False</td>\n",
       "    </tr>\n",
       "    <tr>\n",
       "      <th id=\"T_0e94b_level0_row13\" class=\"row_heading level0 row13\" >13</th>\n",
       "      <td id=\"T_0e94b_row13_col0\" class=\"data row13 col0\" >Experiment Name</td>\n",
       "      <td id=\"T_0e94b_row13_col1\" class=\"data row13 col1\" >anomaly-default-name</td>\n",
       "    </tr>\n",
       "    <tr>\n",
       "      <th id=\"T_0e94b_level0_row14\" class=\"row_heading level0 row14\" >14</th>\n",
       "      <td id=\"T_0e94b_row14_col0\" class=\"data row14 col0\" >USI</td>\n",
       "      <td id=\"T_0e94b_row14_col1\" class=\"data row14 col1\" >aa95</td>\n",
       "    </tr>\n",
       "  </tbody>\n",
       "</table>\n"
      ],
      "text/plain": [
       "<pandas.io.formats.style.Styler at 0x11919ed5d50>"
      ]
     },
     "metadata": {},
     "output_type": "display_data"
    },
    {
     "data": {
      "text/html": [],
      "text/plain": [
       "<IPython.core.display.HTML object>"
      ]
     },
     "metadata": {},
     "output_type": "display_data"
    },
    {
     "data": {
      "text/html": [],
      "text/plain": [
       "<IPython.core.display.HTML object>"
      ]
     },
     "metadata": {},
     "output_type": "display_data"
    },
    {
     "data": {
      "text/html": [],
      "text/plain": [
       "<IPython.core.display.HTML object>"
      ]
     },
     "metadata": {},
     "output_type": "display_data"
    },
    {
     "data": {
      "text/html": [
       "<style type=\"text/css\">\n",
       "#T_6b739_row4_col1, #T_6b739_row8_col1 {\n",
       "  background-color: lightgreen;\n",
       "}\n",
       "</style>\n",
       "<table id=\"T_6b739\">\n",
       "  <thead>\n",
       "    <tr>\n",
       "      <th class=\"blank level0\" >&nbsp;</th>\n",
       "      <th id=\"T_6b739_level0_col0\" class=\"col_heading level0 col0\" >Description</th>\n",
       "      <th id=\"T_6b739_level0_col1\" class=\"col_heading level0 col1\" >Value</th>\n",
       "    </tr>\n",
       "  </thead>\n",
       "  <tbody>\n",
       "    <tr>\n",
       "      <th id=\"T_6b739_level0_row0\" class=\"row_heading level0 row0\" >0</th>\n",
       "      <td id=\"T_6b739_row0_col0\" class=\"data row0 col0\" >Session id</td>\n",
       "      <td id=\"T_6b739_row0_col1\" class=\"data row0 col1\" >123</td>\n",
       "    </tr>\n",
       "    <tr>\n",
       "      <th id=\"T_6b739_level0_row1\" class=\"row_heading level0 row1\" >1</th>\n",
       "      <td id=\"T_6b739_row1_col0\" class=\"data row1 col0\" >Original data shape</td>\n",
       "      <td id=\"T_6b739_row1_col1\" class=\"data row1 col1\" >(150, 5)</td>\n",
       "    </tr>\n",
       "    <tr>\n",
       "      <th id=\"T_6b739_level0_row2\" class=\"row_heading level0 row2\" >2</th>\n",
       "      <td id=\"T_6b739_row2_col0\" class=\"data row2 col0\" >Transformed data shape</td>\n",
       "      <td id=\"T_6b739_row2_col1\" class=\"data row2 col1\" >(150, 5)</td>\n",
       "    </tr>\n",
       "    <tr>\n",
       "      <th id=\"T_6b739_level0_row3\" class=\"row_heading level0 row3\" >3</th>\n",
       "      <td id=\"T_6b739_row3_col0\" class=\"data row3 col0\" >Numeric features</td>\n",
       "      <td id=\"T_6b739_row3_col1\" class=\"data row3 col1\" >5</td>\n",
       "    </tr>\n",
       "    <tr>\n",
       "      <th id=\"T_6b739_level0_row4\" class=\"row_heading level0 row4\" >4</th>\n",
       "      <td id=\"T_6b739_row4_col0\" class=\"data row4 col0\" >Preprocess</td>\n",
       "      <td id=\"T_6b739_row4_col1\" class=\"data row4 col1\" >True</td>\n",
       "    </tr>\n",
       "    <tr>\n",
       "      <th id=\"T_6b739_level0_row5\" class=\"row_heading level0 row5\" >5</th>\n",
       "      <td id=\"T_6b739_row5_col0\" class=\"data row5 col0\" >Imputation type</td>\n",
       "      <td id=\"T_6b739_row5_col1\" class=\"data row5 col1\" >simple</td>\n",
       "    </tr>\n",
       "    <tr>\n",
       "      <th id=\"T_6b739_level0_row6\" class=\"row_heading level0 row6\" >6</th>\n",
       "      <td id=\"T_6b739_row6_col0\" class=\"data row6 col0\" >Numeric imputation</td>\n",
       "      <td id=\"T_6b739_row6_col1\" class=\"data row6 col1\" >mean</td>\n",
       "    </tr>\n",
       "    <tr>\n",
       "      <th id=\"T_6b739_level0_row7\" class=\"row_heading level0 row7\" >7</th>\n",
       "      <td id=\"T_6b739_row7_col0\" class=\"data row7 col0\" >Categorical imputation</td>\n",
       "      <td id=\"T_6b739_row7_col1\" class=\"data row7 col1\" >mode</td>\n",
       "    </tr>\n",
       "    <tr>\n",
       "      <th id=\"T_6b739_level0_row8\" class=\"row_heading level0 row8\" >8</th>\n",
       "      <td id=\"T_6b739_row8_col0\" class=\"data row8 col0\" >Normalize</td>\n",
       "      <td id=\"T_6b739_row8_col1\" class=\"data row8 col1\" >True</td>\n",
       "    </tr>\n",
       "    <tr>\n",
       "      <th id=\"T_6b739_level0_row9\" class=\"row_heading level0 row9\" >9</th>\n",
       "      <td id=\"T_6b739_row9_col0\" class=\"data row9 col0\" >Normalize method</td>\n",
       "      <td id=\"T_6b739_row9_col1\" class=\"data row9 col1\" >zscore</td>\n",
       "    </tr>\n",
       "    <tr>\n",
       "      <th id=\"T_6b739_level0_row10\" class=\"row_heading level0 row10\" >10</th>\n",
       "      <td id=\"T_6b739_row10_col0\" class=\"data row10 col0\" >CPU Jobs</td>\n",
       "      <td id=\"T_6b739_row10_col1\" class=\"data row10 col1\" >-1</td>\n",
       "    </tr>\n",
       "    <tr>\n",
       "      <th id=\"T_6b739_level0_row11\" class=\"row_heading level0 row11\" >11</th>\n",
       "      <td id=\"T_6b739_row11_col0\" class=\"data row11 col0\" >Use GPU</td>\n",
       "      <td id=\"T_6b739_row11_col1\" class=\"data row11 col1\" >False</td>\n",
       "    </tr>\n",
       "    <tr>\n",
       "      <th id=\"T_6b739_level0_row12\" class=\"row_heading level0 row12\" >12</th>\n",
       "      <td id=\"T_6b739_row12_col0\" class=\"data row12 col0\" >Log Experiment</td>\n",
       "      <td id=\"T_6b739_row12_col1\" class=\"data row12 col1\" >False</td>\n",
       "    </tr>\n",
       "    <tr>\n",
       "      <th id=\"T_6b739_level0_row13\" class=\"row_heading level0 row13\" >13</th>\n",
       "      <td id=\"T_6b739_row13_col0\" class=\"data row13 col0\" >Experiment Name</td>\n",
       "      <td id=\"T_6b739_row13_col1\" class=\"data row13 col1\" >cluster-default-name</td>\n",
       "    </tr>\n",
       "    <tr>\n",
       "      <th id=\"T_6b739_level0_row14\" class=\"row_heading level0 row14\" >14</th>\n",
       "      <td id=\"T_6b739_row14_col0\" class=\"data row14 col0\" >USI</td>\n",
       "      <td id=\"T_6b739_row14_col1\" class=\"data row14 col1\" >7f21</td>\n",
       "    </tr>\n",
       "  </tbody>\n",
       "</table>\n"
      ],
      "text/plain": [
       "<pandas.io.formats.style.Styler at 0x1191567e800>"
      ]
     },
     "metadata": {},
     "output_type": "display_data"
    },
    {
     "data": {
      "text/html": [],
      "text/plain": [
       "<IPython.core.display.HTML object>"
      ]
     },
     "metadata": {},
     "output_type": "display_data"
    },
    {
     "data": {
      "text/html": [
       "<style type=\"text/css\">\n",
       "</style>\n",
       "<table id=\"T_a15a4\">\n",
       "  <thead>\n",
       "    <tr>\n",
       "      <th class=\"blank level0\" >&nbsp;</th>\n",
       "      <th id=\"T_a15a4_level0_col0\" class=\"col_heading level0 col0\" >Silhouette</th>\n",
       "      <th id=\"T_a15a4_level0_col1\" class=\"col_heading level0 col1\" >Calinski-Harabasz</th>\n",
       "      <th id=\"T_a15a4_level0_col2\" class=\"col_heading level0 col2\" >Davies-Bouldin</th>\n",
       "      <th id=\"T_a15a4_level0_col3\" class=\"col_heading level0 col3\" >Homogeneity</th>\n",
       "      <th id=\"T_a15a4_level0_col4\" class=\"col_heading level0 col4\" >Rand Index</th>\n",
       "      <th id=\"T_a15a4_level0_col5\" class=\"col_heading level0 col5\" >Completeness</th>\n",
       "    </tr>\n",
       "  </thead>\n",
       "  <tbody>\n",
       "    <tr>\n",
       "      <th id=\"T_a15a4_level0_row0\" class=\"row_heading level0 row0\" >0</th>\n",
       "      <td id=\"T_a15a4_row0_col0\" class=\"data row0 col0\" >0.4529</td>\n",
       "      <td id=\"T_a15a4_row0_col1\" class=\"data row0 col1\" >237.8420</td>\n",
       "      <td id=\"T_a15a4_row0_col2\" class=\"data row0 col2\" >0.8966</td>\n",
       "      <td id=\"T_a15a4_row0_col3\" class=\"data row0 col3\" >0</td>\n",
       "      <td id=\"T_a15a4_row0_col4\" class=\"data row0 col4\" >0</td>\n",
       "      <td id=\"T_a15a4_row0_col5\" class=\"data row0 col5\" >0</td>\n",
       "    </tr>\n",
       "  </tbody>\n",
       "</table>\n"
      ],
      "text/plain": [
       "<pandas.io.formats.style.Styler at 0x11913a42530>"
      ]
     },
     "metadata": {},
     "output_type": "display_data"
    },
    {
     "data": {
      "text/html": [],
      "text/plain": [
       "<IPython.core.display.HTML object>"
      ]
     },
     "metadata": {},
     "output_type": "display_data"
    },
    {
     "name": "stdout",
     "output_type": "stream",
     "text": [
      "✅ File iris_outlier_cluster.csv berhasil dibuat!\n"
     ]
    }
   ],
   "source": [
    "import pandas as pd\n",
    "from pycaret.anomaly import setup as ano_setup, create_model as ano_create, assign_model as ano_assign\n",
    "from pycaret.clustering import setup as clu_setup, create_model as clu_create, assign_model as clu_assign\n",
    "\n",
    "# 1. Load dataset Iris\n",
    "dataset = pd.read_csv(\"iris-full.csv\")  # pastikan file iris.csv ada di folder kerja\n",
    "dataset_nolabel = dataset.drop(columns=[\"Class\"], errors=\"ignore\")\n",
    "\n",
    "# ===============================\n",
    "# 2. Outlier Detection (KNN)\n",
    "# ===============================\n",
    "ano_setup(data=dataset_nolabel, session_id=123, normalize=True)\n",
    "knn = ano_create(\"knn\")\n",
    "dataset_outlier = ano_assign(knn)   # hasil outlier ditambah ke dataframe\n",
    "\n",
    "# ===============================\n",
    "# 3. Clustering (KMeans)\n",
    "# ===============================\n",
    "clu_setup(data=dataset_nolabel, session_id=123, normalize=True)\n",
    "kmeans = clu_create(\"kmeans\", num_clusters=3)\n",
    "dataset_cluster = clu_assign(kmeans)   # hasil cluster ditambah ke dataframe\n",
    "\n",
    "# ===============================\n",
    "# 4. Gabungkan hasil Outlier + Cluster\n",
    "# ===============================\n",
    "final = pd.concat([dataset, \n",
    "                   dataset_outlier[[\"Anomaly\"]], \n",
    "                   dataset_cluster[[\"Cluster\"]]], axis=1)\n",
    "\n",
    "# Simpan ke CSV\n",
    "final.to_csv(\"iris_outlier_cluster.csv\", index=False)\n",
    "\n",
    "print(\"✅ File iris_outlier_cluster.csv berhasil dibuat!\")\n"
   ]
  },
  {
   "cell_type": "markdown",
   "id": "546da72e",
   "metadata": {},
   "source": [
    "4. Visualisasi Power BI\n",
    "\n",
    "Setelah selesai Dataset baru dibuat untuk selanjutnya di proses di Power BI lengkap dengan lengkap dengan Anomaly dan Cluster dengan cara: \n",
    "\n",
    "    1. Load Data\n",
    "\n",
    "* Buka Power BI Desktop\n",
    "\n",
    "* Klik Get Data → Text/CSV → pilih iris_result.csv\n",
    "\n",
    "* Klik Load\n",
    "\n",
    "    2. Scatter Plot (Clustering)\n",
    "\n",
    "* Pilih Visualizations → Scatter Chart\n",
    "\n",
    "* Atur field:\n",
    "\n",
    "X-Axis: sepal_length\n",
    "\n",
    "Y-Axis: sepal_width (atau bisa coba petal_length vs petal_width)\n",
    "\n",
    "Legend / Color: Cluster\n",
    "\n",
    "Size: bisa pakai petal_length biar ada variasi ukuran\n",
    "\n",
    "* Hasil → Titik-titik iris akan berwarna sesuai cluster hasil KMeans.\n",
    "\n",
    "    3. Highlight Outliers\n",
    "\n",
    "* Masih di scatter plot yang sama\n",
    "\n",
    "* Tambahkan filter pada kolom Anomaly:\n",
    "\n",
    "0 → data normal (inlier)\n",
    "\n",
    "1 → data outlier\n",
    "\n",
    "    4. Table View (Detail Outlier)\n",
    "\n",
    "* Tambah Table dari visualizations\n",
    "\n",
    "* Masukkan field: sepal_length, sepal_width, petal_length, petal_width, Cluster, Anomaly, Anomaly_Score.\n",
    "\n",
    "* Aktifkan Filter untuk Anomaly = 1 → supaya tabel hanya menampilkan data outlier.\n",
    "\n",
    "    5. Ringkasan Cluster\n",
    "\n",
    "* Tambahkan Pie Chart atau Donut Chart\n",
    "\n",
    "* Field:\n",
    "\n",
    "Legend: Cluster\n",
    "\n",
    "Values: count of rows (jumlah data tiap cluster).\n",
    "\n",
    "    6. Dashboard Lengkap\n",
    "\n",
    "* Kiri atas → Scatter plot (Cluster vs fitur)\n",
    "\n",
    "* Kanan atas → Pie chart (proporsi cluster)\n",
    "\n",
    "* Bawah → Tabel outlier (detail data aneh)"
   ]
  },
  {
   "cell_type": "markdown",
   "id": "45cbd5d1",
   "metadata": {},
   "source": [
    "![image.png](image.png)"
   ]
  }
 ],
 "metadata": {
  "kernelspec": {
   "display_name": "pycaret-clean",
   "language": "python",
   "name": "python3"
  },
  "language_info": {
   "codemirror_mode": {
    "name": "ipython",
    "version": 3
   },
   "file_extension": ".py",
   "mimetype": "text/x-python",
   "name": "python",
   "nbconvert_exporter": "python",
   "pygments_lexer": "ipython3",
   "version": "3.10.18"
  }
 },
 "nbformat": 4,
 "nbformat_minor": 5
}