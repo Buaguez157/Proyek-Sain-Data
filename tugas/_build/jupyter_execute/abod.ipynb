{
 "cells": [
  {
   "cell_type": "markdown",
   "id": "fc4a6610",
   "metadata": {},
   "source": [
    "# Deteksi Outlier dengan ABOD (Angle-Based Outlier Detection) pada dataset iris\n",
    "\n",
    "**Langkah-langkah**\n",
    "\n",
    "1. Import library & load dataset Iris"
   ]
  },
  {
   "cell_type": "code",
   "execution_count": 1,
   "id": "28da9ed6",
   "metadata": {},
   "outputs": [
    {
     "name": "stdout",
     "output_type": "stream",
     "text": [
      "   id        Class  sepal length  sepal width  petal length  petal width  \\\n",
      "0   1  Iris-setosa           5.1          3.5           1.4          0.2   \n",
      "1   2  Iris-setosa           4.9          3.0           1.4          0.2   \n",
      "2   3  Iris-setosa           4.7          3.2           1.3          0.2   \n",
      "3   4  Iris-setosa           4.6          3.1           1.5          0.2   \n",
      "4   5  Iris-setosa           5.0          3.6           1.4          0.2   \n",
      "\n",
      "   Anomaly    Cluster  \n",
      "0        0  Cluster 1  \n",
      "1        0  Cluster 1  \n",
      "2        0  Cluster 1  \n",
      "3        0  Cluster 1  \n",
      "4        0  Cluster 1  \n"
     ]
    }
   ],
   "source": [
    "import pandas as pd\n",
    "\n",
    "# ganti path sesuai lokasi file CSV hasil cluster outlier iris\n",
    "df = pd.read_csv(\"iris_outlier_cluster.csv\")\n",
    "print(df.head())\n"
   ]
  },
  {
   "cell_type": "markdown",
   "id": "176bb299",
   "metadata": {},
   "source": [
    "Dataset berisi 151 baris, 8 fitur id,Class,sepal length,sepal width,petal length,petal width,Anomaly,Cluster\n",
    "\n",
    "2. Pisahkan fitur numerik\n",
    "\n",
    "Kalau ada kolom cluster/label, jangan dipakai untuk deteksi outlier."
   ]
  },
  {
   "cell_type": "code",
   "execution_count": 2,
   "id": "3382266c",
   "metadata": {},
   "outputs": [
    {
     "name": "stdout",
     "output_type": "stream",
     "text": [
      "Index(['id', 'sepal length', 'sepal width', 'petal length', 'petal width',\n",
      "       'Anomaly'],\n",
      "      dtype='object')\n"
     ]
    }
   ],
   "source": [
    "X = df.select_dtypes(include=[\"float64\", \"int64\"])\n",
    "print(X.columns)\n"
   ]
  },
  {
   "cell_type": "markdown",
   "id": "893d6d2f",
   "metadata": {},
   "source": [
    "3. Jalankan ABOD\n",
    "\n",
    "Pastikan sudah install pyod:\n",
    "```\n",
    "pip install pyod\n",
    "\n",
    "```\n"
   ]
  },
  {
   "cell_type": "code",
   "execution_count": 3,
   "id": "86a17ba9",
   "metadata": {},
   "outputs": [
    {
     "name": "stdout",
     "output_type": "stream",
     "text": [
      "outlier_abod\n",
      "0    142\n",
      "1      8\n",
      "Name: count, dtype: int64\n"
     ]
    }
   ],
   "source": [
    "from pyod.models.abod import ABOD\n",
    "\n",
    "# Inisialisasi ABOD (anggap 5% data outlier)\n",
    "abod = ABOD(contamination=0.05)\n",
    "abod.fit(X)\n",
    "\n",
    "# Tambahkan hasil prediksi ke dataframe\n",
    "df[\"outlier_abod\"] = abod.labels_\n",
    "print(df[\"outlier_abod\"].value_counts())\n"
   ]
  },
  {
   "cell_type": "markdown",
   "id": "bd641f13",
   "metadata": {},
   "source": [
    "0 = inlier, 1 = outlier.\n",
    "\n",
    "4. Hapus outlier dari dataset"
   ]
  },
  {
   "cell_type": "code",
   "execution_count": 4,
   "id": "8cf1d47c",
   "metadata": {},
   "outputs": [
    {
     "name": "stdout",
     "output_type": "stream",
     "text": [
      "(142, 8)\n"
     ]
    }
   ],
   "source": [
    "df_clean = df[df[\"outlier_abod\"] == 0].drop(columns=[\"outlier_abod\"])\n",
    "print(df_clean.shape)\n"
   ]
  },
  {
   "cell_type": "markdown",
   "id": "a70481c1",
   "metadata": {},
   "source": [
    "Dataset bersih akan lebih kecil dari 151 baris karena outlier dihapus\n",
    "\n",
    "5. Simpan dataset bersih ke CSV"
   ]
  },
  {
   "cell_type": "code",
   "execution_count": 5,
   "id": "987e8a4f",
   "metadata": {},
   "outputs": [
    {
     "name": "stdout",
     "output_type": "stream",
     "text": [
      "Dataset bersih disimpan sebagai iris_cluster_abod_clean.csv\n"
     ]
    }
   ],
   "source": [
    "df_clean.to_csv(\"iris_cluster_abod_clean.csv\", index=False)\n",
    "print(\"Dataset bersih disimpan sebagai iris_cluster_abod_clean.csv\")\n"
   ]
  },
  {
   "cell_type": "markdown",
   "id": "90a65f01",
   "metadata": {},
   "source": [
    "# Visualisasi menggunakan Power BI\n",
    "\n",
    "setelah dataset hasil hapus outlier dengan ABOD sudah siap, kita bisa lanjut ke visualisasi di Power BI\n",
    "\n",
    "Berikut alurnya step-by-step:\n",
    "\n",
    "1. Import Dataset ke Power BI\n",
    "\n",
    "    1. Buka Power BI Desktop.\n",
    "    2. Klik Home → Get Data → Text/CSV.\n",
    "    3. Pilih file iris_cluster_abod_clean.csv.\n",
    "    4. Klik Load.\n",
    "    ![abod.png](abod.png)\n",
    "    Dataset bersih sekarang sudah ada di Power BI.\n",
    "\n",
    "\n",
    "2. Persiapan Data\n",
    "\n",
    "    * Pastikan kolom-kolom numerik (sepal length, sepal width, petal length, petal width, Anomaly, id) dikenali sebagai Whole Number dikarenakan datanya hanya angka bulat.\n",
    "    * Kolom Class & Cluster ubah ke Text.\n",
    "\n",
    "3. Visualisasi yang Bisa Dibuat\n",
    "\n",
    "    **A. Scatter Plot (untuk melihat sebaran setelah hapus outlier)**\n",
    "    1. Insert → Scatter chart.\n",
    "    2. X-axis: sepal length (cm)\n",
    "    3. Y-axis: sepal width (cm)\n",
    "    4. Legend: Class atau Cluster\n",
    "    5. Size: bisa isi dengan petal length (cm)\n",
    "    6. Values: id\n",
    "    Ini memperlihatkan distribusi tiap cluster tanpa outlier.\n",
    "\n",
    "    **B. Cluster Distribution**\n",
    "    Gunakan Pie Chart\n",
    "    * Legend: cluster\n",
    "    * Values: Count of rows\n",
    "    Dikarenakan belum ada Count of rows, maka gunakan field apa saja (misal sepal length) lalu ubah ke Count di panel Value → klik dropdown → pilih Count.\n",
    "\n",
    "    **C. Tampilkan dalam Table View**\n",
    "    1. Dari Visualizations pane, pilih ikon Table (bentuknya kotak dengan baris-baris).\n",
    "    2. Drag & drop kolom yang ingin ditampilkan dari Fields pane.\n",
    "    Hasilnya berupa tabel interaktif yang bisa diurutkan\n",
    "\n",
    "    **D. Dashboard Lengkap**\n",
    "    * Kiri atas → Scatter plot (Cluster vs fitur)\n",
    "\n",
    "    * Kanan atas → Pie chart (proporsi cluster)\n",
    "\n",
    "    * Bawah → Tabel outlier (detail data hasil setelah outlier dihapus dengan ABOD)\n",
    "    ![visual.png](visual.png)"
   ]
  }
 ],
 "metadata": {
  "kernelspec": {
   "display_name": "Python (pycaret-clean)",
   "language": "python",
   "name": "pycaret-clean"
  },
  "language_info": {
   "codemirror_mode": {
    "name": "ipython",
    "version": 3
   },
   "file_extension": ".py",
   "mimetype": "text/x-python",
   "name": "python",
   "nbconvert_exporter": "python",
   "pygments_lexer": "ipython3",
   "version": "3.10.18"
  }
 },
 "nbformat": 4,
 "nbformat_minor": 5
}