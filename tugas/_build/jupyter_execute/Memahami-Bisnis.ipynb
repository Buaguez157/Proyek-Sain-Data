{
 "cells": [
  {
   "cell_type": "markdown",
   "metadata": {
    "id": "AtDIvLWEhdlj"
   },
   "source": [
    "# **Business Problem Understanding**\n",
    "\n",
    "1. Buat Database di PostgreSQL & Ambil Data via Python\n",
    "\n",
    "* Siapkan dataset CSV\n",
    "* Gunakan Python + psycopg2 untuk:\n",
    "\n",
    "  * Koneksi ke PostgreSQL\n",
    "\n",
    "  * Query data kembali ke Python (pandas dataframe).\n",
    "\n",
    "  berikut code menggunakan psycopg2 + pandas"
   ]
  },
  {
   "cell_type": "code",
   "execution_count": 3,
   "metadata": {
    "colab": {
     "base_uri": "https://localhost:8080/"
    },
    "id": "UT-mYuJHHowe",
    "outputId": "b8f532d5-78e1-4c66-f472-8ae33ffc8ad9"
   },
   "outputs": [
    {
     "name": "stdout",
     "output_type": "stream",
     "text": [
      "Requirement already satisfied: psycopg2 in /usr/local/lib/python3.12/dist-packages (2.9.10)\n",
      "Requirement already satisfied: pandas in /usr/local/lib/python3.12/dist-packages (2.2.2)\n",
      "Requirement already satisfied: numpy>=1.26.0 in /usr/local/lib/python3.12/dist-packages (from pandas) (2.0.2)\n",
      "Requirement already satisfied: python-dateutil>=2.8.2 in /usr/local/lib/python3.12/dist-packages (from pandas) (2.9.0.post0)\n",
      "Requirement already satisfied: pytz>=2020.1 in /usr/local/lib/python3.12/dist-packages (from pandas) (2025.2)\n",
      "Requirement already satisfied: tzdata>=2022.7 in /usr/local/lib/python3.12/dist-packages (from pandas) (2025.2)\n",
      "Requirement already satisfied: six>=1.5 in /usr/local/lib/python3.12/dist-packages (from python-dateutil>=2.8.2->pandas) (1.17.0)\n"
     ]
    }
   ],
   "source": [
    "!pip install psycopg2\n",
    "!pip install pandas"
   ]
  },
  {
   "cell_type": "code",
   "execution_count": 11,
   "metadata": {
    "colab": {
     "base_uri": "https://localhost:8080/"
    },
    "id": "yqO2wa-Deocp",
    "outputId": "3abd46de-6782-42e3-d7b7-c2d6abe0b0ce"
   },
   "outputs": [
    {
     "name": "stderr",
     "output_type": "stream",
     "text": [
      "/tmp/ipython-input-1666361516.py:15: UserWarning: pandas only supports SQLAlchemy connectable (engine/connection) or database string URI or sqlite3 DBAPI2 connection. Other DBAPI2 objects are not tested. Please consider using SQLAlchemy.\n",
      "  df = pd.read_sql(query, conn)\n"
     ]
    },
    {
     "name": "stdout",
     "output_type": "stream",
     "text": [
      "   id        Class  sepal length  sepal width\n",
      "0   2  Iris-setosa           4.9          3.0\n",
      "1   3  Iris-setosa           4.7          3.2\n",
      "2   4  Iris-setosa           4.6          3.1\n",
      "3   5  Iris-setosa           5.0          3.6\n",
      "4   6  Iris-setosa           5.4          3.9\n"
     ]
    }
   ],
   "source": [
    "import psycopg2\n",
    "import pandas as pd\n",
    "\n",
    "# Koneksi ke PostgreSQL\n",
    "conn = psycopg2.connect(\n",
    "    dbname=\"defaultdb\",\n",
    "    user=\"avnadmin\",\n",
    "    password=\"AVNS_VpqImPpZAlNzgDMQvOp\",\n",
    "    host=\"irispostgresql-2739-irispostgresql-2739.l.aivencloud.com\",\n",
    "    port=\"15320\"\n",
    ")\n",
    "\n",
    "# Ambil data dari tabel iris\n",
    "query = \"SELECT * FROM \\\"irispostgresql-2739\\\".irispostgresql\"\n",
    "df = pd.read_sql(query, conn)\n",
    "\n",
    "conn.close()\n",
    "\n",
    "# Lihat 5 baris pertama\n",
    "print(df.head())\n"
   ]
  },
  {
   "cell_type": "markdown",
   "metadata": {
    "id": "UthAbsBTmxhu"
   },
   "source": [
    "# **2. Eksplorasi Data (Data Understanding)**\n",
    "\n",
    "Setelah data sudah diambil ke pandas dataframe, lakukan eksplorasi:\n",
    "\n",
    "a. Tipe Data"
   ]
  },
  {
   "cell_type": "code",
   "execution_count": 13,
   "metadata": {
    "colab": {
     "base_uri": "https://localhost:8080/"
    },
    "id": "of6HBOAcnEee",
    "outputId": "19687bc2-49d1-4037-abfe-eea446b5910b"
   },
   "outputs": [
    {
     "name": "stdout",
     "output_type": "stream",
     "text": [
      "id                int64\n",
      "Class            object\n",
      "sepal length    float64\n",
      "sepal width     float64\n",
      "dtype: object\n"
     ]
    }
   ],
   "source": [
    "print(df.dtypes)\n"
   ]
  },
  {
   "cell_type": "markdown",
   "metadata": {
    "id": "7hkXxg1JnPSM"
   },
   "source": [
    "b. Kualitas Data\n",
    "\n",
    "1. Missing Values"
   ]
  },
  {
   "cell_type": "code",
   "execution_count": 14,
   "metadata": {
    "colab": {
     "base_uri": "https://localhost:8080/"
    },
    "id": "klFuOU2UnT10",
    "outputId": "1d931e35-3c18-4c87-920b-4a8888683700"
   },
   "outputs": [
    {
     "name": "stdout",
     "output_type": "stream",
     "text": [
      "id              0\n",
      "Class           0\n",
      "sepal length    0\n",
      "sepal width     0\n",
      "dtype: int64\n"
     ]
    }
   ],
   "source": [
    "print(df.isnull().sum())\n"
   ]
  },
  {
   "cell_type": "markdown",
   "metadata": {
    "id": "O5Rf0OwhnaQE"
   },
   "source": [
    "2. Outlier Analysis (IQR)"
   ]
  },
  {
   "cell_type": "code",
   "execution_count": 16,
   "metadata": {
    "colab": {
     "base_uri": "https://localhost:8080/"
    },
    "id": "NMYMnqbSnbpw",
    "outputId": "3f7b5a3e-39f0-40d9-e837-adfc683ffffc"
   },
   "outputs": [
    {
     "name": "stdout",
     "output_type": "stream",
     "text": [
      "     id        Class  sepal length  sepal width\n",
      "149   1  Iris-setosa          20.1         30.5\n"
     ]
    }
   ],
   "source": [
    "Q1 = df['sepal length'].quantile(0.25)\n",
    "Q3 = df['sepal length'].quantile(0.75)\n",
    "IQR = Q3 - Q1\n",
    "outliers = df[(df['sepal length'] < Q1 - 1.5*IQR) |\n",
    "                       (df['sepal length'] > Q3 + 1.5*IQR)]\n",
    "print(outliers)\n"
   ]
  },
  {
   "cell_type": "markdown",
   "metadata": {
    "id": "j3M6rgutnv9r"
   },
   "source": [
    "3. Konsistensi Data (cek duplikat / nilai aneh)"
   ]
  },
  {
   "cell_type": "code",
   "execution_count": 19,
   "metadata": {
    "colab": {
     "base_uri": "https://localhost:8080/"
    },
    "id": "R6suz5Hzn6ao",
    "outputId": "f164be5f-6c42-4a9e-9ecb-a9493dc498eb"
   },
   "outputs": [
    {
     "name": "stdout",
     "output_type": "stream",
     "text": [
      "0\n",
      "['Iris-setosa' 'Iris-versicolor' 'Iris-virginica']\n"
     ]
    }
   ],
   "source": [
    "print(df.duplicated().sum())  # cek duplikat\n",
    "print(df['Class'].unique()) # cek kategori konsisten\n"
   ]
  },
  {
   "cell_type": "markdown",
   "metadata": {
    "id": "Ty8ZG1f3pGfb"
   },
   "source": [
    "4. Distribusi Data / Statistik"
   ]
  },
  {
   "cell_type": "code",
   "execution_count": 20,
   "metadata": {
    "colab": {
     "base_uri": "https://localhost:8080/"
    },
    "id": "1lPx8BVGojCy",
    "outputId": "43732f45-558e-4241-dc59-583ea104b163"
   },
   "outputs": [
    {
     "name": "stdout",
     "output_type": "stream",
     "text": [
      "               id  sepal length  sepal width\n",
      "count  150.000000    150.000000   150.000000\n",
      "mean    75.500000      5.943333     3.234000\n",
      "std     43.445368      1.426895     2.282464\n",
      "min      1.000000      4.300000     2.000000\n",
      "25%     38.250000      5.100000     2.800000\n",
      "50%     75.500000      5.800000     3.000000\n",
      "75%    112.750000      6.400000     3.300000\n",
      "max    150.000000     20.100000    30.500000\n"
     ]
    }
   ],
   "source": [
    "print(df.describe())"
   ]
  }
 ],
 "metadata": {
  "colab": {
   "provenance": []
  },
  "kernelspec": {
   "display_name": "Python 3",
   "name": "python3"
  },
  "language_info": {
   "name": "python"
  }
 },
 "nbformat": 4,
 "nbformat_minor": 0
}